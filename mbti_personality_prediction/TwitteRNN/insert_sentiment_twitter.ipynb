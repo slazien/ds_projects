{
 "cells": [
  {
   "cell_type": "code",
   "execution_count": 1,
   "metadata": {},
   "outputs": [
    {
     "name": "stderr",
     "output_type": "stream",
     "text": [
      "Using TensorFlow backend.\n"
     ]
    }
   ],
   "source": [
    "import psycopg2\n",
    "import pickle\n",
    "import time\n",
    "import matplotlib.pyplot as plt\n",
    "\n",
    "from net import TwitteRNN\n",
    "from multiprocessing import Pool\n",
    "from tqdm import tqdm"
   ]
  },
  {
   "cell_type": "code",
   "execution_count": 2,
   "metadata": {
    "collapsed": true
   },
   "outputs": [],
   "source": [
    "connection = psycopg2.connect('host=52.178.108.157 dbname=postgres user=outsider password=IS3xsTfRZb0B')\n",
    "cursor = connection.cursor()"
   ]
  },
  {
   "cell_type": "code",
   "execution_count": 3,
   "metadata": {},
   "outputs": [
    {
     "name": "stdout",
     "output_type": "stream",
     "text": [
      "_________________________________________________________________\n",
      "Layer (type)                 Output Shape              Param #   \n",
      "=================================================================\n",
      "embedding_1 (Embedding)      (None, 1000, 16)          1600000   \n",
      "_________________________________________________________________\n",
      "conv1d_1 (Conv1D)            (None, 1000, 32)          1568      \n",
      "_________________________________________________________________\n",
      "max_pooling1d_1 (MaxPooling1 (None, 500, 32)           0         \n",
      "_________________________________________________________________\n",
      "lstm_1 (LSTM)                (None, 100)               53200     \n",
      "_________________________________________________________________\n",
      "dropout_1 (Dropout)          (None, 100)               0         \n",
      "_________________________________________________________________\n",
      "dense_1 (Dense)              (None, 1)                 101       \n",
      "=================================================================\n",
      "Total params: 1,654,869\n",
      "Trainable params: 1,654,869\n",
      "Non-trainable params: 0\n",
      "_________________________________________________________________\n",
      "None\n"
     ]
    }
   ],
   "source": [
    "model = TwitteRNN(vocab_size=100000, max_seq_len=1000)\n",
    "model.create_model()\n",
    "model.load_model(weights_path=\"./model_checkpoints/weights-improvement-02-0.823.hdf5\",\n",
    "                 dict_filename=\"./model_dict.pickle\")"
   ]
  },
  {
   "cell_type": "code",
   "execution_count": null,
   "metadata": {
    "collapsed": true
   },
   "outputs": [],
   "source": [
    "cursor.execute(\"SELECT id, body, origin_id FROM posts WHERE origin_id in (19, 42);\")\n",
    "post_id_body = cursor.fetchall()"
   ]
  },
  {
   "cell_type": "code",
   "execution_count": 18,
   "metadata": {},
   "outputs": [
    {
     "data": {
      "text/plain": [
       "0.80128807"
      ]
     },
     "execution_count": 18,
     "metadata": {},
     "output_type": "execute_result"
    }
   ],
   "source": [
    "text = \"Fiat\"\n",
    "model.predict(text)"
   ]
  },
  {
   "cell_type": "code",
   "execution_count": 21,
   "metadata": {},
   "outputs": [
    {
     "data": {
      "text/plain": [
       "0.79605836"
      ]
     },
     "execution_count": 21,
     "metadata": {},
     "output_type": "execute_result"
    }
   ],
   "source": [
    "text = \"Hey, I just checked it out and I’m excited. I’m going to try using this for a little while and see how it goes, but I’d love to give you guys some feedback.\"\n",
    "model.predict(text)"
   ]
  },
  {
   "cell_type": "code",
   "execution_count": 32,
   "metadata": {},
   "outputs": [
    {
     "data": {
      "text/plain": [
       "-1"
      ]
     },
     "execution_count": 32,
     "metadata": {},
     "output_type": "execute_result"
    }
   ],
   "source": [
    "model.predict(\"\")"
   ]
  },
  {
   "cell_type": "code",
   "execution_count": 33,
   "metadata": {},
   "outputs": [
    {
     "name": "stdout",
     "output_type": "stream",
     "text": [
      "Literally\n",
      "0.389719\n",
      "Literally ur\n",
      "0.647782\n",
      "Literally ur facebook\n",
      "0.605595\n",
      "Literally ur facebook message\n",
      "0.872038\n",
      "Literally ur facebook message app\n",
      "0.632413\n",
      "Literally ur facebook message app is\n",
      "0.518565\n",
      "Literally ur facebook message app is useless,\n",
      "0.490876\n",
      "Literally ur facebook message app is useless, you\n",
      "0.683599\n",
      "Literally ur facebook message app is useless, you only\n",
      "0.387272\n",
      "Literally ur facebook message app is useless, you only want\n",
      "0.346327\n",
      "Literally ur facebook message app is useless, you only want it\n",
      "0.274147\n",
      "Literally ur facebook message app is useless, you only want it to\n",
      "0.309235\n",
      "Literally ur facebook message app is useless, you only want it to increase\n",
      "0.255083\n",
      "Literally ur facebook message app is useless, you only want it to increase profit.\n",
      "0.474035\n",
      "Literally ur facebook message app is useless, you only want it to increase profit. Please\n",
      "0.462664\n",
      "Literally ur facebook message app is useless, you only want it to increase profit. Please fix\n",
      "0.542001\n",
      "Literally ur facebook message app is useless, you only want it to increase profit. Please fix yourself.\n",
      "0.566294\n",
      "Literally ur facebook message app is useless, you only want it to increase profit. Please fix yourself. Its\n",
      "0.610512\n",
      "Literally ur facebook message app is useless, you only want it to increase profit. Please fix yourself. Its sad\n",
      "0.049892\n"
     ]
    }
   ],
   "source": [
    "text_split = text.split(\" \")\n",
    "for i in range(1, len(text_split)):\n",
    "    current_text = \" \".join(text_split[0:i])\n",
    "    print(current_text)\n",
    "    print(model.predict(current_text))"
   ]
  },
  {
   "cell_type": "code",
   "execution_count": 77,
   "metadata": {},
   "outputs": [
    {
     "data": {
      "text/plain": [
       "[('This', 0.51497263),\n",
       " ('is', 0.5745737),\n",
       " ('a', 0.52914882),\n",
       " ('really', 0.57332587),\n",
       " ('interesting', 0.93083155),\n",
       " ('paper,', 0.72515982),\n",
       " ('but', 0.59494323),\n",
       " ('the', 0.62939608),\n",
       " ('conclusions', 0.96356601),\n",
       " ('section', 0.83229619),\n",
       " ('was', 0.92375183),\n",
       " ('a', 0.88709682),\n",
       " ('bit', 0.93826872),\n",
       " ('disappointing.', 0.42111591)]"
      ]
     },
     "execution_count": 77,
     "metadata": {},
     "output_type": "execute_result"
    }
   ],
   "source": [
    "text = \"This is a really interesting paper, but the conclusions section was a bit disappointing.\"\n",
    "words = text.split(\" \")\n",
    "sentiments = []\n",
    "input_words = \"\"\n",
    "temp_dict = []\n",
    "for i in range(len(words)):\n",
    "    input_words += words[i]\n",
    "    input_words += \" \"\n",
    "    sentiments.append(model.predict(input_words))\n",
    "    temp_dict.append((words[i], model.predict(input_words)))\n",
    "temp_dict"
   ]
  },
  {
   "cell_type": "code",
   "execution_count": 88,
   "metadata": {},
   "outputs": [
    {
     "data": {
      "image/png": "[encoded data removed]",
      "text/plain": [
       "<matplotlib.figure.Figure at 0x7f59377a5400>"
      ]
     },
     "metadata": {},
     "output_type": "display_data"
    }
   ],
   "source": [
    "sent = []\n",
    "words = []\n",
    "for elem in temp_dict:\n",
    "    sent.append(elem[1])\n",
    "    words.append(elem[0])\n",
    "\n",
    "plt.xticks(range(len(words)), words)\n",
    "plt.plot(range(len(words)), sent)\n",
    "plt.show()\n"
   ]
  },
  {
   "cell_type": "code",
   "execution_count": 89,
   "metadata": {},
   "outputs": [
    {
     "data": {
      "text/plain": [
       "[('The', 0.52735597),\n",
       " ('authors', 0.78489256),\n",
       " ('are', 0.78321391),\n",
       " ('well', 0.80364668),\n",
       " ('known.', 0.8345353),\n",
       " ('However,', 0.67787796),\n",
       " ('this', 0.59851164),\n",
       " ('paper', 0.26116103),\n",
       " ('significantly', 0.20735058),\n",
       " ('lacked', 0.0071025053),\n",
       " ('academic', 0.028599752),\n",
       " ('rigour.', 0.10216416)]"
      ]
     },
     "execution_count": 89,
     "metadata": {},
     "output_type": "execute_result"
    }
   ],
   "source": [
    "text = \"The authors are well known. However, this paper significantly lacked academic rigour.\"\n",
    "words = text.split(\" \")\n",
    "sentiments = []\n",
    "input_words = \"\"\n",
    "temp_dict = []\n",
    "for i in range(len(words)):\n",
    "    input_words += words[i]\n",
    "    input_words += \" \"\n",
    "    sentiments.append(model.predict(input_words))\n",
    "    temp_dict.append((words[i], model.predict(input_words)))\n",
    "temp_dict"
   ]
  },
  {
   "cell_type": "code",
   "execution_count": 61,
   "metadata": {},
   "outputs": [
    {
     "data": {
      "image/png": "[encoded data removed]",
      "text/plain": [
       "<matplotlib.figure.Figure at 0x7f5937820b70>"
      ]
     },
     "metadata": {},
     "output_type": "display_data"
    }
   ],
   "source": [
    "fig = plt.figure()\n",
    "fig.suptitle(\"Sentiment\", fontsize=14, fontweight=\"bold\")\n",
    "\n",
    "ax = fig.add_subplot(111)\n",
    "fig.subplots_adjust(top=0.85)\n",
    "\n",
    "ax.text(0.2, 0.5, \"This\", bbox={\"facecolor\":\"red\", \"alpha\":0.5})\n",
    "ax.text(1.05, 0.5, \"movie\", bbox={\"facecolor\":\"blue\", \"alpha\":0.5})\n",
    "ax.text(1.2, 0.5, \"is\", bbox={\"facecolor\":})\n",
    "\n",
    "ax.axis([0, 10, 0, 10])\n",
    "\n",
    "plt.show()"
   ]
  },
  {
   "cell_type": "code",
   "execution_count": 35,
   "metadata": {},
   "outputs": [
    {
     "ename": "NameError",
     "evalue": "name 'post_id_body' is not defined",
     "output_type": "error",
     "traceback": [
      "\u001b[0;31m---------------------------------------------------------------------------\u001b[0m",
      "\u001b[0;31mNameError\u001b[0m                                 Traceback (most recent call last)",
      "\u001b[0;32m<ipython-input-35-f0cd835dc028>\u001b[0m in \u001b[0;36m<module>\u001b[0;34m()\u001b[0m\n\u001b[1;32m      1\u001b[0m \u001b[0;31m# Get sentiments for post ids\u001b[0m\u001b[0;34m\u001b[0m\u001b[0;34m\u001b[0m\u001b[0m\n\u001b[0;32m----> 2\u001b[0;31m \u001b[0mbar\u001b[0m \u001b[0;34m=\u001b[0m \u001b[0mtqdm\u001b[0m\u001b[0;34m(\u001b[0m\u001b[0mtotal\u001b[0m\u001b[0;34m=\u001b[0m\u001b[0mlen\u001b[0m\u001b[0;34m(\u001b[0m\u001b[0mpost_id_body\u001b[0m\u001b[0;34m)\u001b[0m\u001b[0;34m)\u001b[0m\u001b[0;34m\u001b[0m\u001b[0m\n\u001b[0m\u001b[1;32m      3\u001b[0m \u001b[0mpost_id_sentiment\u001b[0m \u001b[0;34m=\u001b[0m \u001b[0;34m[\u001b[0m\u001b[0;34m]\u001b[0m\u001b[0;34m\u001b[0m\u001b[0m\n\u001b[1;32m      4\u001b[0m \u001b[0;32mfor\u001b[0m \u001b[0mpost\u001b[0m \u001b[0;32min\u001b[0m \u001b[0mpost_id_body\u001b[0m\u001b[0;34m:\u001b[0m\u001b[0;34m\u001b[0m\u001b[0m\n\u001b[1;32m      5\u001b[0m     \u001b[0mpost_id_sentiment\u001b[0m\u001b[0;34m.\u001b[0m\u001b[0mappend\u001b[0m\u001b[0;34m(\u001b[0m\u001b[0;34m(\u001b[0m\u001b[0mpost\u001b[0m\u001b[0;34m[\u001b[0m\u001b[0;36m0\u001b[0m\u001b[0;34m]\u001b[0m\u001b[0;34m,\u001b[0m \u001b[0mmodel\u001b[0m\u001b[0;34m.\u001b[0m\u001b[0mpredict\u001b[0m\u001b[0;34m(\u001b[0m\u001b[0mpost\u001b[0m\u001b[0;34m[\u001b[0m\u001b[0;36m1\u001b[0m\u001b[0;34m]\u001b[0m\u001b[0;34m)\u001b[0m\u001b[0;34m,\u001b[0m \u001b[0mpost\u001b[0m\u001b[0;34m[\u001b[0m\u001b[0;36m2\u001b[0m\u001b[0;34m]\u001b[0m\u001b[0;34m)\u001b[0m\u001b[0;34m)\u001b[0m\u001b[0;34m\u001b[0m\u001b[0m\n",
      "\u001b[0;31mNameError\u001b[0m: name 'post_id_body' is not defined"
     ]
    }
   ],
   "source": [
    "# Get sentiments for post ids\n",
    "bar = tqdm(total=len(post_id_body))\n",
    "post_id_sentiment = []\n",
    "for post in post_id_body:\n",
    "    post_id_sentiment.append((post[0], model.predict(post[1]), post[2]))\n",
    "    bar.update()"
   ]
  },
  {
   "cell_type": "code",
   "execution_count": 7,
   "metadata": {
    "collapsed": true
   },
   "outputs": [],
   "source": [
    "with open(\"post_id_sentiment_reddit.pickle\", \"rb\") as f:\n",
    "    post_id_sentiment = pickle.load(f)"
   ]
  },
  {
   "cell_type": "code",
   "execution_count": 6,
   "metadata": {
    "collapsed": true
   },
   "outputs": [],
   "source": [
    "#with open(\"post_id_sentiment.pickle\", \"rb\") as f:\n",
    "#    post_id_sentiment = pickle.load(f)"
   ]
  },
  {
   "cell_type": "code",
   "execution_count": 9,
   "metadata": {
    "collapsed": true
   },
   "outputs": [],
   "source": [
    "cursor.execute(\"SELECT post_id FROM posts_score;\")\n",
    "post_ids = cursor.fetchall()\n",
    "for post in post_id_body:\n",
    "    post_ids.append(post[0])"
   ]
  },
  {
   "cell_type": "code",
   "execution_count": 15,
   "metadata": {
    "scrolled": true
   },
   "outputs": [
    {
     "name": "stderr",
     "output_type": "stream",
     "text": [
      "\n",
      "  0%|          | 0/108995 [00:00<?, ?it/s]\u001b[A\n",
      "  0%|          | 3/108995 [00:00<1:16:02, 23.89it/s]\u001b[A\n",
      "  0%|          | 6/108995 [00:00<1:16:42, 23.68it/s]\u001b[A\n",
      "  0%|          | 9/108995 [00:00<1:16:13, 23.83it/s]\u001b[A\n",
      "  0%|          | 12/108995 [00:00<1:16:05, 23.87it/s]\u001b[A\n",
      "  0%|          | 15/108995 [00:00<1:16:14, 23.82it/s]\u001b[A\n",
      "  0%|          | 18/108995 [00:00<1:17:01, 23.58it/s]\u001b[A\n",
      "  0%|          | 21/108995 [00:00<1:17:43, 23.37it/s]\u001b[A\n",
      "  0%|          | 24/108995 [00:01<1:17:45, 23.36it/s]\u001b[A\n",
      "  0%|          | 27/108995 [00:01<1:16:42, 23.68it/s]\u001b[A\n",
      "  0%|          | 30/108995 [00:01<1:17:08, 23.54it/s]\u001b[A\n",
      "  0%|          | 33/108995 [00:01<1:16:39, 23.69it/s]\u001b[A\n",
      "  0%|          | 36/108995 [00:01<1:16:44, 23.66it/s]\u001b[A\n",
      "  0%|          | 39/108995 [00:01<1:16:05, 23.86it/s]\u001b[A\n",
      "  0%|          | 42/108995 [00:01<1:17:55, 23.31it/s]\u001b[A\n",
      "  0%|          | 45/108995 [00:01<1:16:44, 23.66it/s]\u001b[A\n",
      "  0%|          | 48/108995 [00:02<1:16:24, 23.76it/s]\u001b[A\n",
      "  0%|          | 51/108995 [00:02<1:15:43, 23.98it/s]\u001b[A\n",
      "  0%|          | 54/108995 [00:02<1:17:02, 23.57it/s]\u001b[A\n",
      "  0%|          | 57/108995 [00:02<1:22:30, 22.01it/s]\u001b[A\n",
      "  0%|          | 60/108995 [00:02<1:22:25, 22.03it/s]\u001b[A\n",
      "  0%|          | 63/108995 [00:02<1:20:12, 22.64it/s]\u001b[A\n",
      "  0%|          | 66/108995 [00:02<1:19:18, 22.89it/s]\u001b[A\n",
      "  0%|          | 69/108995 [00:02<1:19:30, 22.83it/s]\u001b[A\n",
      "  0%|          | 72/108995 [00:03<1:18:14, 23.20it/s]\u001b[A\n",
      "  0%|          | 75/108995 [00:03<1:17:28, 23.43it/s]\u001b[A\n",
      "  0%|          | 78/108995 [00:03<1:18:36, 23.09it/s]\u001b[A\n",
      "  0%|          | 81/108995 [00:03<1:20:13, 22.63it/s]\u001b[A\n",
      "  0%|          | 84/108995 [00:03<1:20:02, 22.68it/s]\u001b[A\n",
      "  0%|          | 87/108995 [00:03<1:18:59, 22.98it/s]\u001b[A\n",
      "  0%|          | 90/108995 [00:03<1:17:56, 23.29it/s]\u001b[A\n",
      "  0%|          | 93/108995 [00:03<1:17:19, 23.47it/s]\u001b[A\n",
      "  0%|          | 96/108995 [00:04<1:16:52, 23.61it/s]\u001b[A\n",
      "  0%|          | 99/108995 [00:04<1:16:29, 23.73it/s]\u001b[A\n",
      "  0%|          | 102/108995 [00:04<1:15:49, 23.94it/s]\u001b[A\n",
      "  0%|          | 105/108995 [00:04<1:15:44, 23.96it/s]\u001b[A\n",
      "  0%|          | 108/108995 [00:04<1:15:26, 24.05it/s]\u001b[A\n",
      "  0%|          | 111/108995 [00:04<1:15:14, 24.12it/s]\u001b[A\n",
      "  0%|          | 114/108995 [00:04<1:14:56, 24.21it/s]\u001b[A\n",
      "  0%|          | 117/108995 [00:05<1:17:49, 23.32it/s]\u001b[A\n",
      "  0%|          | 373/108995 [00:31<2:31:29, 11.95it/s]\u001b[A\n",
      "  0%|          | 123/108995 [00:05<1:22:03, 22.11it/s]\n",
      "100%|██████████| 108995/108995 [1:15:35<00:00, 24.27it/s]  "
     ]
    }
   ],
   "source": [
    "# INSERT or UPDATE if exists\n",
    "bar = tqdm(total=len(post_id_sentiment))\n",
    "\n",
    "batch = \"\"\n",
    "\n",
    "i = 1\n",
    "\n",
    "for pair in post_id_sentiment:\n",
    "    \n",
    "    post_id = int(pair[0])\n",
    "    sentiment = float(pair[1])\n",
    "    origin_id = int(pair[2])\n",
    "        \n",
    "    if i%10000 == 0:\n",
    "        cursor = connection.cursor()\n",
    "        cursor.execute(batch)\n",
    "        connection.commit()\n",
    "        cursor.close()\n",
    "        batch = \"\"\n",
    "    else:\n",
    "        if post_id in post_ids:\n",
    "            batch += \"UPDATE posts_score SET sentiment = %s WHERE post_id = %s; \" % (sentiment, post_id)\n",
    "        else:\n",
    "            batch += \"INSERT INTO posts_score (post_id, sentiment, origin_id) VALUES (%s, %s, %s); \" % (post_id, sentiment, origin_id)\n",
    "\n",
    "    i += 1\n",
    "    bar.update()\n",
    "\n",
    "cursor = connection.cursor()\n",
    "cursor.execute(batch)\n",
    "connection.commit()\n",
    "cursor.close()"
   ]
  },
  {
   "cell_type": "code",
   "execution_count": 16,
   "metadata": {
    "collapsed": true
   },
   "outputs": [],
   "source": [
    "connection.close()"
   ]
  },
  {
   "cell_type": "code",
   "execution_count": null,
   "metadata": {
    "collapsed": true
   },
   "outputs": [],
   "source": []
  }
 ],
 "metadata": {
  "kernelspec": {
   "display_name": "Python 3",
   "language": "python",
   "name": "python3"
  },
  "language_info": {
   "codemirror_mode": {
    "name": "ipython",
    "version": 3
   },
   "file_extension": ".py",
   "mimetype": "text/x-python",
   "name": "python",
   "nbconvert_exporter": "python",
   "pygments_lexer": "ipython3",
   "version": "3.5.2"
  }
 },
 "nbformat": 4,
 "nbformat_minor": 1
}
